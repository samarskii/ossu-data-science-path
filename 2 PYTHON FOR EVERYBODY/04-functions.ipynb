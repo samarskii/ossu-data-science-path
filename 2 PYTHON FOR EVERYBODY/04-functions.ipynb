{
 "cells": [
  {
   "cell_type": "markdown",
   "id": "628485a8-2f90-4a1b-ad09-3a4f88eb233a",
   "metadata": {},
   "source": [
    "# Functions"
   ]
  },
  {
   "cell_type": "markdown",
   "id": "f7f82c2c-154f-4d15-a0a4-342469c7f2c6",
   "metadata": {},
   "source": [
    "## __Exercise 4__: What is the purpose of the “def” keyword in Python?"
   ]
  },
  {
   "cell_type": "code",
   "execution_count": 6,
   "id": "69518358-7514-4de1-8ea0-038bf7d20bbb",
   "metadata": {},
   "outputs": [
    {
     "name": "stdout",
     "output_type": "stream",
     "text": [
      "What is the purpose of the “def” keyword in Python?\n",
      "a = It is slang that means 'the following code is really cool' \n",
      "b = It indicates the start of a function \n",
      "c = It indicates that the following indented section of code is to be stored for later \n",
      "d = b and c are both true \n",
      "e = None of the above \n",
      "\n"
     ]
    },
    {
     "name": "stdin",
     "output_type": "stream",
     "text": [
      "Print your answer a, b, c, d or e d\n"
     ]
    },
    {
     "name": "stdout",
     "output_type": "stream",
     "text": [
      "Yes! You are correct\n"
     ]
    }
   ],
   "source": [
    "print(\"What is the purpose of the “def” keyword in Python?\")\n",
    "a = \"a = It is slang that means 'the following code is really cool'\"\n",
    "b = \"b = It indicates the start of a function\"\n",
    "c = \"c = It indicates that the following indented section of code is to be stored for later\"\n",
    "d = \"d = b and c are both true\"\n",
    "e = \"e = None of the above\"\n",
    "print(f\"{a} \\n{b} \\n{c} \\n{d} \\n{e} \\n\")\n",
    "answer = input(\"Print your answer a, b, c, d or e\")\n",
    "\n",
    "if answer == \"d\":\n",
    "    print(\"Yes! You are correct\")\n",
    "else: \n",
    "    print(\"No, you are wrong, please try again\")"
   ]
  },
  {
   "cell_type": "markdown",
   "id": "2699d5ff-ac1f-40e3-a8f1-6e7479c88a22",
   "metadata": {},
   "source": [
    "## __Exercise 5__: What will the following Python program print out?"
   ]
  },
  {
   "cell_type": "raw",
   "id": "59e54916-0fb9-4211-b98a-103273d16b32",
   "metadata": {},
   "source": [
    "def fred():\n",
    "   print(\"Zap\")\n",
    "\n",
    "def jane():\n",
    "   print(\"ABC\")\n",
    "\n",
    "jane()\n",
    "fred()\n",
    "jane()"
   ]
  },
  {
   "cell_type": "code",
   "execution_count": 7,
   "id": "d76ad65b-416c-4a4a-a12b-61b6ca4e43f4",
   "metadata": {},
   "outputs": [
    {
     "name": "stdout",
     "output_type": "stream",
     "text": [
      "What will the following Python program print out?\n",
      "a) Zap ABC jane fred jane \n",
      "b) Zap ABC Zap \n",
      "c) ABC Zap jane \n",
      "d) ABC Zap ABC \n",
      "e) Zap Zap Zap \n",
      "\n"
     ]
    },
    {
     "name": "stdin",
     "output_type": "stream",
     "text": [
      "Print your answer a, b, c, d or e d\n"
     ]
    },
    {
     "name": "stdout",
     "output_type": "stream",
     "text": [
      "Yes! You are correct\n"
     ]
    }
   ],
   "source": [
    "print(\"What will the following Python program print out?\")\n",
    "a = \"a) Zap ABC jane fred jane\"\n",
    "b = \"b) Zap ABC Zap\"\n",
    "c = \"c) ABC Zap jane\"\n",
    "d = \"d) ABC Zap ABC\"\n",
    "e = \"e) Zap Zap Zap\"\n",
    "print(f\"{a} \\n{b} \\n{c} \\n{d} \\n{e} \\n\")\n",
    "answer = input(\"Print your answer a, b, c, d or e\")\n",
    "\n",
    "if answer == \"d\":\n",
    "    print(\"Yes! You are correct\")\n",
    "else: \n",
    "    print(\"No, you are wrong, please try again\")"
   ]
  },
  {
   "cell_type": "markdown",
   "id": "86cd21f0-1f12-46fd-8efd-64c68b21480a",
   "metadata": {},
   "source": [
    "## __Exercise 6__: Rewrite your pay computation with time-and-a-half for overtime and create a function called computepay which takes two parameters (hours and rate)."
   ]
  },
  {
   "cell_type": "code",
   "execution_count": 11,
   "id": "14072934-fd7d-4a0b-a12d-89a2454467be",
   "metadata": {},
   "outputs": [
    {
     "name": "stdin",
     "output_type": "stream",
     "text": [
      "Enter Hours:  45\n",
      "Enter Rate:  10\n"
     ]
    },
    {
     "name": "stdout",
     "output_type": "stream",
     "text": [
      "Pay:  475.0\n"
     ]
    }
   ],
   "source": [
    "def computepay(hours, rate):\n",
    "    if hours > 40:\n",
    "        addrate = rate * 1.5 \n",
    "        pay = (40 * rate) + addrate * (hours - 40)\n",
    "        return pay\n",
    "    else:\n",
    "        pay = hours * rate\n",
    "        return pay\n",
    "\n",
    "h = float(input(\"Enter Hours: \"))\n",
    "r = float(input(\"Enter Rate: \"))\n",
    "print(\"Pay: \", computepay(h, r))"
   ]
  },
  {
   "cell_type": "markdown",
   "id": "ba356c37-e5bd-46c5-8ba5-cea6492db968",
   "metadata": {},
   "source": [
    "## __Exercise 7__: Rewrite the grade program from the previous chapter using a function called computegrade that takes a score as its parameter and returns a grade as a string."
   ]
  },
  {
   "cell_type": "code",
   "execution_count": 4,
   "id": "c45f8c10-26b4-4a54-a9a7-5bae1180d22f",
   "metadata": {},
   "outputs": [
    {
     "name": "stdout",
     "output_type": "stream",
     "text": [
      "Enter score: 0.95 \n",
      " A\n",
      "Enter score: perfect \n",
      " Bad score\n",
      "Enter score: 10.0 \n",
      " Bad score\n",
      "Enter score: 0.75 \n",
      " C\n",
      "Enter score: 0.5 \n",
      " F\n"
     ]
    }
   ],
   "source": [
    "def computegrade(score):\n",
    "    try: \n",
    "        score == float(score)\n",
    "        if score <= 1.0 and score >= 0.0:\n",
    "                if score >= 0.9:\n",
    "                    return \"A\"\n",
    "                elif score >= 0.8:\n",
    "                    return \"B\"\n",
    "                elif score >= 0.7:\n",
    "                    return \"C\"\n",
    "                elif score >= 0.6:\n",
    "                    return \"D\"\n",
    "                elif score < 0.6:\n",
    "                    return \"F\"\n",
    "        else:\n",
    "            return \"Bad score\"\n",
    "    except:\n",
    "        return \"Bad score\"\n",
    "\n",
    "print(f\"Enter score: 0.95 \\n {computegrade(0.95)}\")\n",
    "print(f\"Enter score: perfect \\n {computegrade('perfect')}\")\n",
    "print(f\"Enter score: 10.0 \\n {computegrade(10.0)}\")\n",
    "print(f\"Enter score: 0.75 \\n {computegrade(0.75)}\")\n",
    "print(f\"Enter score: 0.5 \\n {computegrade(0.5)}\")"
   ]
  },
  {
   "cell_type": "code",
   "execution_count": null,
   "id": "1db04f96-637c-47d8-8bef-3b11c365f807",
   "metadata": {},
   "outputs": [],
   "source": []
  }
 ],
 "metadata": {
  "kernelspec": {
   "display_name": "Python 3 (ipykernel)",
   "language": "python",
   "name": "python3"
  },
  "language_info": {
   "codemirror_mode": {
    "name": "ipython",
    "version": 3
   },
   "file_extension": ".py",
   "mimetype": "text/x-python",
   "name": "python",
   "nbconvert_exporter": "python",
   "pygments_lexer": "ipython3",
   "version": "3.11.5"
  }
 },
 "nbformat": 4,
 "nbformat_minor": 5
}
