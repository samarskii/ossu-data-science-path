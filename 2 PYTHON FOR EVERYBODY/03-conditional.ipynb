{
 "cells": [
  {
   "cell_type": "markdown",
   "id": "41ec8948-8110-479d-b09c-8015806f8c75",
   "metadata": {},
   "source": [
    "# Chapter 3: Conditional execution"
   ]
  },
  {
   "cell_type": "markdown",
   "id": "1811d68c-f56b-46a2-a5fe-a7fe50b8f255",
   "metadata": {},
   "source": [
    "## __Exercise 1__: Rewrite your pay computation to give the employee 1.5 times the hourly rate for hours worked above 40 hours."
   ]
  },
  {
   "cell_type": "code",
   "execution_count": 9,
   "id": "a45985f4-42e6-4ce9-872c-330607dcd1d5",
   "metadata": {},
   "outputs": [
    {
     "name": "stdin",
     "output_type": "stream",
     "text": [
      "Enter Hours:  45\n",
      "Enter Rate:  10\n"
     ]
    },
    {
     "name": "stdout",
     "output_type": "stream",
     "text": [
      "Pay:  475.0\n"
     ]
    }
   ],
   "source": [
    "# this program will calculate salary rate based on hours worked\n",
    "\n",
    "hours = input(\"Enter Hours: \")\n",
    "rate = input(\"Enter Rate: \")\n",
    "\n",
    "if float(hours) <= float(40):\n",
    "    pay = float(hours) * float(rate)\n",
    "    print(\"Pay: \", pay)\n",
    "else:\n",
    "    addhours = float(hours) - 40\n",
    "    newrate = float(rate) * 1.5\n",
    "    pay = (40 * float(rate)) + (addhours * newrate)\n",
    "    print(\"Pay: \", pay)"
   ]
  },
  {
   "cell_type": "markdown",
   "id": "f2dd27bd-a2a8-4abd-92a0-2a7da0f33cd0",
   "metadata": {},
   "source": [
    "## __Exercise 2__: Rewrite your pay program using try and except so that your program handles non-numeric input gracefully by printing a message and exiting the program. The following shows two executions of the program:"
   ]
  },
  {
   "cell_type": "code",
   "execution_count": 18,
   "id": "05e0e5c5-5fe4-4398-b03a-bb27b9354c5f",
   "metadata": {},
   "outputs": [
    {
     "name": "stdin",
     "output_type": "stream",
     "text": [
      "Enter Hours:  45\n",
      "Enter Rate:  10\n"
     ]
    },
    {
     "name": "stdout",
     "output_type": "stream",
     "text": [
      "Pay:  475.0\n"
     ]
    }
   ],
   "source": [
    "# this program will calculate salary rate based on hours worked\n",
    "\n",
    "\n",
    "try:\n",
    "    hours = float(input(\"Enter Hours: \"))\n",
    "except:\n",
    "    print(\"Error, please enter numeric input\")\n",
    "\n",
    "try:\n",
    "    rate = float(input(\"Enter Rate: \"))\n",
    "except: \n",
    "    print(\"Error, please enter numeric input\")\n",
    "\n",
    "try:\n",
    "    if hours <= float(40):\n",
    "        pay = hours * rate\n",
    "        print(\"Pay: \", pay)\n",
    "    else:\n",
    "        addhours = hours - 40\n",
    "        newrate = rate * 1.5\n",
    "        pay = (40 * rate) + (addhours * newrate)\n",
    "        print(\"Pay: \", pay)\n",
    "except:\n",
    "    print(\"Error, please enter numeric input\")"
   ]
  },
  {
   "cell_type": "markdown",
   "id": "f8fe125d-a08c-47e3-83c8-1a2769dbec57",
   "metadata": {},
   "source": [
    "## __Exercise 3__: Write a program to prompt for a score between 0.0 and 1.0. If the score is out of range, print an error message. If the score is between 0.0 and 1.0, print a grade using the following table:"
   ]
  },
  {
   "cell_type": "code",
   "execution_count": 1,
   "id": "5ae86c81-493d-4a09-88c8-99210831e710",
   "metadata": {},
   "outputs": [
    {
     "name": "stdin",
     "output_type": "stream",
     "text": [
      "Enter score:  10.0\n"
     ]
    },
    {
     "name": "stdout",
     "output_type": "stream",
     "text": [
      "Bad score\n"
     ]
    }
   ],
   "source": [
    "try:\n",
    "    score = float(input(\"Enter score: \"))\n",
    "except:\n",
    "    print(\"Bad score\")\n",
    "\n",
    "if score >= 0.0 and score <= 1.0:\n",
    "    if score >= 0.9:\n",
    "        print(\"A\")\n",
    "    elif score >= 0.8:\n",
    "        print(\"B\")\n",
    "    elif score >= 0.7:\n",
    "        print(\"C\")\n",
    "    elif score >= 0.6:\n",
    "        print(\"D\")\n",
    "    else:\n",
    "        print(\"F\")\n",
    "else:\n",
    "    print(\"Bad score\")"
   ]
  },
  {
   "cell_type": "code",
   "execution_count": null,
   "id": "111d7fa6-b5d2-4e01-926c-ae0d0ece35fd",
   "metadata": {},
   "outputs": [],
   "source": []
  }
 ],
 "metadata": {
  "kernelspec": {
   "display_name": "Python 3 (ipykernel)",
   "language": "python",
   "name": "python3"
  },
  "language_info": {
   "codemirror_mode": {
    "name": "ipython",
    "version": 3
   },
   "file_extension": ".py",
   "mimetype": "text/x-python",
   "name": "python",
   "nbconvert_exporter": "python",
   "pygments_lexer": "ipython3",
   "version": "3.11.5"
  }
 },
 "nbformat": 4,
 "nbformat_minor": 5
}
