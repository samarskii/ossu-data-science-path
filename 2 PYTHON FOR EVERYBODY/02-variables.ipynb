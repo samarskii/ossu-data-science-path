{
 "cells": [
  {
   "cell_type": "markdown",
   "id": "ef0d29cb-9c5c-4f5f-b534-ed361a0c38ce",
   "metadata": {},
   "source": [
    "### __Exercise 2__: Write a program that uses input to prompt a user for their name and then welcomes them."
   ]
  },
  {
   "cell_type": "code",
   "execution_count": 1,
   "id": "c507f482-31c8-4247-96e4-eefb26159e62",
   "metadata": {},
   "outputs": [
    {
     "name": "stdin",
     "output_type": "stream",
     "text": [
      "Enter your name:  Chuck\n"
     ]
    },
    {
     "name": "stdout",
     "output_type": "stream",
     "text": [
      "Hello, Chuck\n"
     ]
    }
   ],
   "source": [
    "name = input(\"Enter your name: \")\n",
    "print(f\"Hello, {name}\")"
   ]
  },
  {
   "cell_type": "markdown",
   "id": "63825ed9-f568-4b2e-9794-3cc353f43847",
   "metadata": {},
   "source": [
    "### __Exercise 3__: Write a program to prompt the user for hours and rate per hour to compute gross pay."
   ]
  },
  {
   "cell_type": "code",
   "execution_count": 3,
   "id": "136aff2f-98d0-44c7-8767-396e1034a083",
   "metadata": {},
   "outputs": [
    {
     "name": "stdin",
     "output_type": "stream",
     "text": [
      "Enter Hours:  16\n",
      "Enter Rate:  13\n"
     ]
    },
    {
     "name": "stdout",
     "output_type": "stream",
     "text": [
      "Your pay is: 208.0\n"
     ]
    }
   ],
   "source": [
    "hours = float(input(\"Enter Hours: \"))\n",
    "rate = float(input(\"Enter Rate: \"))\n",
    "pay = hours * rate\n",
    "print(f\"Your pay is: {pay}\")"
   ]
  },
  {
   "cell_type": "markdown",
   "id": "bbb7f7ec-eea0-4536-9396-eee4855fcf69",
   "metadata": {},
   "source": [
    "### __Exercise 4__: Assume that we execute the following assignment statements:"
   ]
  },
  {
   "cell_type": "code",
   "execution_count": 5,
   "id": "a7328c74-e61f-4063-9473-6d60ec621cf0",
   "metadata": {},
   "outputs": [
    {
     "name": "stdout",
     "output_type": "stream",
     "text": [
      "Result of width//2 is: 8\n",
      "Result of width/2.0 is: 8.5\n",
      "Result of height/3 is: 4.0\n",
      "Result of 1 + 2 * 5 is: 11\n"
     ]
    }
   ],
   "source": [
    "width = 17\n",
    "height = 12 \n",
    "\n",
    "print(f\"Result of width//2 is: {width//2}\")\n",
    "print(f\"Result of width/2.0 is: {width/2.0}\")\n",
    "print(f\"Result of height/3 is: {height/3}\")\n",
    "print(f\"Result of 1 + 2 * 5 is: {1 + 2 * 5}\")"
   ]
  },
  {
   "cell_type": "markdown",
   "id": "bb7336cf-f7f0-43e8-802b-d28531175903",
   "metadata": {},
   "source": [
    "### __Exercise 5__: Write a program which prompts the user for a Celsius temperature, convert the temperature to Fahrenheit, and print out the converted temperature."
   ]
  },
  {
   "cell_type": "code",
   "execution_count": 6,
   "id": "230141b5-4c6a-47b8-9e5d-6a98dc16db7f",
   "metadata": {},
   "outputs": [
    {
     "name": "stdin",
     "output_type": "stream",
     "text": [
      "Write your temperature in Celsius:  25\n"
     ]
    },
    {
     "name": "stdout",
     "output_type": "stream",
     "text": [
      "Your temperature in fahrenheits is: 77.0\n"
     ]
    }
   ],
   "source": [
    "# This program is going to convert celsius to fahrenheit\n",
    "\n",
    "celsius = float(input(\"Write your temperature in Celsius: \"))\n",
    "fahrenheit = (celsius * 1.8) + 32\n",
    "print(f\"Your temperature in fahrenheits is: {fahrenheit}\")"
   ]
  },
  {
   "cell_type": "code",
   "execution_count": null,
   "id": "afa3ddec-60e1-42af-96d5-731f78b5f179",
   "metadata": {},
   "outputs": [],
   "source": []
  }
 ],
 "metadata": {
  "kernelspec": {
   "display_name": "Python 3 (ipykernel)",
   "language": "python",
   "name": "python3"
  },
  "language_info": {
   "codemirror_mode": {
    "name": "ipython",
    "version": 3
   },
   "file_extension": ".py",
   "mimetype": "text/x-python",
   "name": "python",
   "nbconvert_exporter": "python",
   "pygments_lexer": "ipython3",
   "version": "3.11.5"
  }
 },
 "nbformat": 4,
 "nbformat_minor": 5
}
