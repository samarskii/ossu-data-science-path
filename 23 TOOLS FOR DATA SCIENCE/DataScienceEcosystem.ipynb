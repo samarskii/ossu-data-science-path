# Data Science Tools and Ecosystem

## Author: Samarskii
In this notebook, Data Science Tools and Ecosystem are summarized.
__Objectives__:

* List popular languages for Data Science
* List commonly used libraries for Data Science
* List Data Science Tools
Some of the popular languages that Data Scientist use are: 

1. Python
2. R
3. Scala
Some of the commonly used libraries used by Data Scientist include: 

1. pandas (python)
2. numpy (python)
3. ggplot2 (R)
Data Science Tools: 

1. Jupyter Notebooks
2. Anaconda-Navigator
3. IBM Watson Studio
4. R-Studio
5. Google Collab
Below are a few examples of evaluating arithmetic expressions in Python:

2 + 2 

4 * 1653 

(18 + 71) * (15 / 3) - (24 / 5 + 1) / 2 + 4 ^ (3) - 10000
(3 * 4) + 5

# This a simple arithmetic expression to multiply then add integers.
# This will convert 200 minutes to hours by diving by 60

200 / 60
