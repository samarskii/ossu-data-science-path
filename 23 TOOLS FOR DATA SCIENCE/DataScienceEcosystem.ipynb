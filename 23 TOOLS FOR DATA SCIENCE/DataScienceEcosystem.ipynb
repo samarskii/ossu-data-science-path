{
 "cells": [
  {
   "cell_type": "markdown",
   "id": "99b834f0-d012-46d8-b3a5-5d8672f0d5dc",
   "metadata": {},
   "source": [
    "# Data Science Tools and Ecosystem\n",
    "\n",
    "## Author: Samarskii"
   ]
  },
  {
   "cell_type": "markdown",
   "id": "b1c296de-d137-40fe-affb-1f9c4384cc2c",
   "metadata": {},
   "source": [
    "In this notebook, Data Science Tools and Ecosystem are summarized."
   ]
  },
  {
   "cell_type": "markdown",
   "id": "a7422c2a-607d-4e7a-8543-70ed5e1fa7f2",
   "metadata": {},
   "source": [
    "__Objectives__:\n",
    "\n",
    "* List popular languages for Data Science\n",
    "* List commonly used libraries for Data Science\n",
    "* List Data Science Tools"
   ]
  },
  {
   "cell_type": "markdown",
   "id": "00b6adab-27f4-47a6-9772-406d9d93ebab",
   "metadata": {},
   "source": [
    "Some of the popular languages that Data Scientist use are: \n",
    "\n",
    "1. Python\n",
    "2. R\n",
    "3. Scala"
   ]
  },
  {
   "cell_type": "markdown",
   "id": "e946fdde-8e1e-40cf-8b0d-2af1078e4eb0",
   "metadata": {},
   "source": [
    "Some of the commonly used libraries used by Data Scientist include: \n",
    "\n",
    "1. pandas (python)\n",
    "2. numpy (python)\n",
    "3. ggplot2 (R)"
   ]
  },
  {
   "cell_type": "markdown",
   "id": "368f7317-2b53-4bea-a0be-42bb565dc1f5",
   "metadata": {},
   "source": [
    "Data Science Tools: \n",
    "\n",
    "1. Jupyter Notebooks\n",
    "2. Anaconda-Navigator\n",
    "3. IBM Watson Studio\n",
    "4. R-Studio\n",
    "5. Google Collab"
   ]
  },
  {
   "cell_type": "markdown",
   "id": "b170d71b-11da-46fe-8fa4-5fa1de770ddd",
   "metadata": {},
   "source": [
    "Below are a few examples of evaluating arithmetic expressions in Python:\n",
    "\n",
    "2 + 2 \n",
    "\n",
    "4 * 1653 \n",
    "\n",
    "(18 + 71) * (15 / 3) - (24 / 5 + 1) / 2 + 4 ^ (3) - 10000"
   ]
  },
  {
   "cell_type": "code",
   "execution_count": 2,
   "id": "d4f31825-292c-437d-b1bc-e18785ed96df",
   "metadata": {},
   "outputs": [
    {
     "data": {
      "text/plain": [
       "17"
      ]
     },
     "execution_count": 2,
     "metadata": {},
     "output_type": "execute_result"
    }
   ],
   "source": [
    "(3 * 4) + 5\n",
    "\n",
    "# This a simple arithmetic expression to multiply then add integers."
   ]
  },
  {
   "cell_type": "code",
   "execution_count": 4,
   "id": "295a6910-ed23-4c92-9ca0-2e9bc949903e",
   "metadata": {},
   "outputs": [
    {
     "data": {
      "text/plain": [
       "3.3333333333333335"
      ]
     },
     "execution_count": 4,
     "metadata": {},
     "output_type": "execute_result"
    }
   ],
   "source": [
    "# This will convert 200 minutes to hours by diving by 60\n",
    "\n",
    "200 / 60"
   ]
  }
 ],
 "metadata": {
  "kernelspec": {
   "display_name": "Python 3 (ipykernel)",
   "language": "python",
   "name": "python3"
  },
  "language_info": {
   "codemirror_mode": {
    "name": "ipython",
    "version": 3
   },
   "file_extension": ".py",
   "mimetype": "text/x-python",
   "name": "python",
   "nbconvert_exporter": "python",
   "pygments_lexer": "ipython3",
   "version": "3.11.5"
  }
 },
 "nbformat": 4,
 "nbformat_minor": 5
}
